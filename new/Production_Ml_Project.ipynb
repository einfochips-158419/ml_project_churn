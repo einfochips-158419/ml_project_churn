{
  "cells": [
    {
      "cell_type": "code",
      "execution_count": 2,
      "metadata": {
        "colab": {
          "base_uri": "https://localhost:8080/"
        },
        "id": "zXkWxA2sIXnn",
        "outputId": "08d034df-9e54-4356-85b9-939366a9477f"
      },
      "outputs": [],
      "source": [
        "# Connect To The Drive\n",
        "# from google.colab import drive\n",
        "# drive.mount('/content/drive')"
      ]
    },
    {
      "cell_type": "code",
      "execution_count": 3,
      "metadata": {
        "colab": {
          "base_uri": "https://localhost:8080/"
        },
        "id": "gjpcQ2dXM7u0",
        "outputId": "c3f39dc9-20c3-446d-d150-7ce2afa40811"
      },
      "outputs": [],
      "source": [
        "# !pip install flask-ngrok"
      ]
    },
    {
      "cell_type": "code",
      "execution_count": 4,
      "metadata": {
        "id": "6zzpgr1kJBl4"
      },
      "outputs": [],
      "source": [
        "from flask import Flask, render_template,request,redirect,url_for\n",
        "# from flask_ngrok import run_with_ngrok\n",
        "from joblib import load\n",
        "import pandas as pd"
      ]
    },
    {
      "cell_type": "code",
      "execution_count": 5,
      "metadata": {
        "colab": {
          "base_uri": "https://localhost:8080/"
        },
        "id": "JLJPFi5tJCtw",
        "outputId": "d6da9357-a0f4-409e-e6ed-a64cc351f95c"
      },
      "outputs": [],
      "source": [
        "# ! wget https://bin.equinox.io/c/4VmDzA7iaHb/ngrok-stable-linux-amd64.zip\n",
        "# ! unzip ngrok-stable-linux-amd64.zip\n",
        "# ! ./ngrok authtoken 2NzzsUKL2V48Rc10w36KNce6muo_7DByYoBAoEGz4rtetgWLo"
      ]
    },
    {
      "cell_type": "code",
      "execution_count": 6,
      "metadata": {
        "id": "RjQrQvTuJHGH"
      },
      "outputs": [],
      "source": [
        "app = Flask(__name__,template_folder=r\"churn_prediction\")"
      ]
    },
    {
      "cell_type": "code",
      "execution_count": 7,
      "metadata": {
        "id": "Hvedqi9hNSpZ"
      },
      "outputs": [],
      "source": [
        "# run_with_ngrok(app)"
      ]
    },
    {
      "cell_type": "code",
      "execution_count": 8,
      "metadata": {
        "id": "z8OLNEOlJzMq"
      },
      "outputs": [],
      "source": [
        "@app.route(\"/\")\n",
        "def index():\n",
        "    return render_template(\"model.html\") \n",
        "\n",
        "@app.route(\"/model\",methods=['GET', 'POST'])\n",
        "def model_page():\n",
        "\n",
        "\n",
        "  output_text = 'Initial'\n",
        "\n",
        "  if request.method == 'POST':\n",
        "      gender = request.form.get('gender')\n",
        "      SeniorCitizen = request.form.get('SeniorCitizen')\n",
        "      Partner = request.form.get('Partner')\n",
        "      Dependents  = request.form.get('Dependents')\n",
        "      PhoneService = request.form.get('PhoneService')\n",
        "      MultipleLines = request.form.get('MultipleLines')\n",
        "      InternetService = request.form.get('InternetService')\n",
        "      OnlineSecurity = request.form.get('OnlineSecurity')\n",
        "      OnlineBackup = request.form.get('OnlineBackup')\n",
        "      DeviceProtection = request.form.get('DeviceProtection')\n",
        "      TechSupport = request.form.get('TechSupport')\n",
        "      StreamingTV = request.form.get('StreamingTV')\n",
        "      StreamingMovies = request.form.get('StreamingMovies')\n",
        "      Contract = request.form.get('Contract')\n",
        "      PaperlessBilling = request.form.get('PaperlessBilling')\n",
        "      PaymentMethod = request.form.get('PaymentMethod')\n",
        "      MonthlyCharges = request.form.get('MonthlyCharges')\n",
        "      TotalCharges = request.form.get('TotalCharges')\n",
        "      tenure_group = request.form.get('tenure_group')\n",
        "\n",
        "      df = pd.DataFrame({\n",
        "          'gender':[gender],\n",
        "          'SeniorCitizen':[SeniorCitizen],\n",
        "          'Partner':[Partner],\n",
        "          'Dependents':[Dependents],\n",
        "          'PhoneService':[PhoneService],\n",
        "          'MultipleLines':[MultipleLines],\n",
        "          'InternetService':[InternetService],\n",
        "          'OnlineSecurity':[OnlineSecurity],\n",
        "          'OnlineBackup':[OnlineBackup],\n",
        "          'DeviceProtection':[DeviceProtection],\n",
        "          'TechSupport':[TechSupport],\n",
        "          'StreamingTV':[StreamingTV],\n",
        "          'StreamingMovies':[StreamingMovies],\n",
        "          'Contract':[Contract],\n",
        "          'PaperlessBilling':[PaperlessBilling],\n",
        "          'PaymentMethod':[PaymentMethod],\n",
        "          'MonthlyCharges':[MonthlyCharges],\n",
        "          'TotalCharges':[TotalCharges],\n",
        "          'tenure_group':[tenure_group]\n",
        "      })\n",
        "\n",
        "\n",
        "    #   randomForestClassifier = load('/content/drive/MyDrive/Project_ML/random_forest.joblib')\n",
        "      randomForestClassifier = load('churn_prediction\\random_forest.joblib')\n",
        "      y_pred = randomForestClassifier.predict(df)\n",
        "\n",
        "      if y_pred == 0.0:\n",
        "          pred = \" User Will Not Churn \"\n",
        "      else:\n",
        "          pred = \" User Will Churn \"\n",
        "\n",
        "      return render_template('output.html', output_text = pred)\n",
        "\n"
      ]
    },
    {
      "cell_type": "code",
      "execution_count": 9,
      "metadata": {
        "colab": {
          "base_uri": "https://localhost:8080/"
        },
        "id": "AZEpKnN5KMRz",
        "outputId": "65971cfb-83da-4b29-cd3c-9924df07592f"
      },
      "outputs": [
        {
          "name": "stdout",
          "output_type": "stream",
          "text": [
            " * Serving Flask app '__main__'\n",
            " * Debug mode: off\n"
          ]
        },
        {
          "name": "stderr",
          "output_type": "stream",
          "text": [
            "WARNING: This is a development server. Do not use it in a production deployment. Use a production WSGI server instead.\n",
            " * Running on http://127.0.0.1:5000\n",
            "Press CTRL+C to quit\n",
            "127.0.0.1 - - [13/Apr/2023 10:22:09] \"GET / HTTP/1.1\" 200 -\n",
            "[2023-04-13 10:22:13,610] ERROR in app: Exception on /model [POST]\n",
            "Traceback (most recent call last):\n",
            "  File \"C:\\Users\\158419\\AppData\\Roaming\\Python\\Python311\\site-packages\\flask\\app.py\", line 2528, in wsgi_app\n",
            "    response = self.full_dispatch_request()\n",
            "               ^^^^^^^^^^^^^^^^^^^^^^^^^^^^\n",
            "  File \"C:\\Users\\158419\\AppData\\Roaming\\Python\\Python311\\site-packages\\flask\\app.py\", line 1825, in full_dispatch_request\n",
            "    rv = self.handle_user_exception(e)\n",
            "         ^^^^^^^^^^^^^^^^^^^^^^^^^^^^^\n",
            "  File \"C:\\Users\\158419\\AppData\\Roaming\\Python\\Python311\\site-packages\\flask\\app.py\", line 1823, in full_dispatch_request\n",
            "    rv = self.dispatch_request()\n",
            "         ^^^^^^^^^^^^^^^^^^^^^^^\n",
            "  File \"C:\\Users\\158419\\AppData\\Roaming\\Python\\Python311\\site-packages\\flask\\app.py\", line 1799, in dispatch_request\n",
            "    return self.ensure_sync(self.view_functions[rule.endpoint])(**view_args)\n",
            "           ^^^^^^^^^^^^^^^^^^^^^^^^^^^^^^^^^^^^^^^^^^^^^^^^^^^^^^^^^^^^^^^^^\n",
            "  File \"C:\\Users\\158419\\AppData\\Local\\Temp\\ipykernel_9688\\2193157686.py\", line 55, in model_page\n",
            "    randomForestClassifier = load('/content/drive/MyDrive/Project_ML/random_forest.joblib')\n",
            "                             ^^^^^^^^^^^^^^^^^^^^^^^^^^^^^^^^^^^^^^^^^^^^^^^^^^^^^^^^^^^^^^\n",
            "  File \"C:\\Users\\158419\\AppData\\Roaming\\Python\\Python311\\site-packages\\joblib\\numpy_pickle.py\", line 650, in load\n",
            "    with open(filename, 'rb') as f:\n",
            "         ^^^^^^^^^^^^^^^^^^^^\n",
            "FileNotFoundError: [Errno 2] No such file or directory: '/content/drive/MyDrive/Project_ML/random_forest.joblib'\n",
            "127.0.0.1 - - [13/Apr/2023 10:22:13] \"POST /model HTTP/1.1\" 500 -\n"
          ]
        }
      ],
      "source": [
        "app.run()"
      ]
    }
  ],
  "metadata": {
    "colab": {
      "provenance": []
    },
    "kernelspec": {
      "display_name": "Python 3",
      "name": "python3"
    },
    "language_info": {
      "codemirror_mode": {
        "name": "ipython",
        "version": 3
      },
      "file_extension": ".py",
      "mimetype": "text/x-python",
      "name": "python",
      "nbconvert_exporter": "python",
      "pygments_lexer": "ipython3",
      "version": "3.11.2"
    }
  },
  "nbformat": 4,
  "nbformat_minor": 0
}
